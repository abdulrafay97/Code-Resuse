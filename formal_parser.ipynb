{
 "cells": [
  {
   "cell_type": "code",
   "execution_count": 1,
   "metadata": {},
   "outputs": [],
   "source": [
    "import os\n",
    "import json\n",
    "import javalang\n",
    "from openai import OpenAI"
   ]
  },
  {
   "cell_type": "code",
   "execution_count": 2,
   "metadata": {},
   "outputs": [],
   "source": [
    "template = \"\"\"\n",
    "You are a programming assistant specialized in analyzing Java code. Your task is to provide a concise yet comprehensive summary of a given Java method. The summary should be written as a single, cohesive paragraph that includes the following:\n",
    "\n",
    "1. **Purpose:** Briefly describe what the method is designed to accomplish.\n",
    "2. **Parameters:** Explain the purpose of each parameter, including their types, and how they are used in the method.\n",
    "3. **Return Value:** Describe what the method returns, including its type and significance.\n",
    "4. **Core Logic:** Summarize the key functionality and major steps the method performs.\n",
    "5. **Exceptions:** Mention any exceptions that the method might throw and under what conditions.\n",
    "6. **Context (if applicable):** Explain how the method interacts with other components or fits into the larger codebase.\n",
    "\n",
    "The paragraph should use plain English, avoiding excessive technical jargon, while ensuring no key details are omitted. Use the following Java method to generate the summary:\n",
    "\"\"\""
   ]
  },
  {
   "cell_type": "code",
   "execution_count": 3,
   "metadata": {},
   "outputs": [],
   "source": [
    "def generate_summary_using_llm(method):\n",
    "    my_api_key = \"\"\n",
    "    try:\n",
    "        with open(\"/Users/abdulrafay/Desktop/Research Project/parser/Key/my_key\") as keyfile:\n",
    "            my_api_key = keyfile.readline().strip()\n",
    "    except FileNotFoundError:\n",
    "        print(\"Error: The file 'my_key' was not found. Please make sure the file exists and contains your API key.\")\n",
    "\n",
    "\n",
    "    client = OpenAI(base_url=\"https://llm.scads.ai/v1\",api_key=my_api_key)\n",
    "\n",
    "    for model in client.models.list().data:\n",
    "        model_name = model.id\n",
    "\n",
    "        if \"llama\" in model_name:\n",
    "            break\n",
    "        \n",
    "    request = template + method\n",
    "\n",
    "    try:\n",
    "        response = client.chat.completions.create(\n",
    "            messages=[\n",
    "                {\"role\":\"user\",\"content\":request}\n",
    "            ],\n",
    "            model=model_name,\n",
    "            temperature = 0.1, \n",
    "            max_tokens = 2048\n",
    "        )\n",
    "\n",
    "        res = response.choices[0].message.content\n",
    "\n",
    "        return res\n",
    "\n",
    "    except json.JSONDecodeError as e:\n",
    "        print(\"JSON decode error:\", e)\n",
    "        print(\"Response content might not be valid JSON:\", response.choices[0].message.content if response.choices else \"No content\")\n",
    "\n",
    "        return "
   ]
  },
  {
   "cell_type": "code",
   "execution_count": 4,
   "metadata": {},
   "outputs": [],
   "source": [
    "def extract_code_with_brackets(entity, lines):\n",
    "    if entity.position:\n",
    "        start_line = entity.position[0] - 1 \n",
    "        \n",
    "        open_brackets = 0\n",
    "        end_line = start_line\n",
    "        for i in range(start_line, len(lines)):\n",
    "            open_brackets += lines[i].count('{')\n",
    "            open_brackets -= lines[i].count('}')\n",
    "            if open_brackets == 0:\n",
    "                end_line = i\n",
    "                break\n",
    "\n",
    "        return \"\\n\".join(lines[start_line:end_line + 1])\n",
    "    return \"<Code could not be extracted>\""
   ]
  },
  {
   "cell_type": "code",
   "execution_count": 5,
   "metadata": {},
   "outputs": [],
   "source": [
    "def get_imports_used_in_method(method_body, imports):\n",
    "    used_imports = []\n",
    "    for _import in imports:\n",
    "        import_name = _import.path.split('.')[-1] \n",
    "        if any(import_name in line for line in method_body.splitlines()):\n",
    "            used_imports.append(_import.path)\n",
    "    return used_imports"
   ]
  },
  {
   "cell_type": "code",
   "execution_count": 6,
   "metadata": {},
   "outputs": [],
   "source": [
    "def get_package_name(tree, repo_structure):\n",
    "    repo_structure['package'] = tree.package.name"
   ]
  },
  {
   "cell_type": "code",
   "execution_count": 7,
   "metadata": {},
   "outputs": [],
   "source": [
    "def get_imports(tree, repo_structure):\n",
    "    import_lst = []\n",
    "\n",
    "    for imp in tree.imports:\n",
    "        import_lst.append(imp.path)\n",
    "    \n",
    "    repo_structure['imports'] = import_lst"
   ]
  },
  {
   "cell_type": "code",
   "execution_count": 8,
   "metadata": {},
   "outputs": [],
   "source": [
    "def get_class_imports(tree, node):\n",
    "    used_imports = []\n",
    "    for _import in tree.imports:\n",
    "        import_name = _import.path.split('.')[-1] \n",
    "        if import_name in node.name:\n",
    "            used_imports.append(_import.path)\n",
    "    \n",
    "    return used_imports"
   ]
  },
  {
   "cell_type": "code",
   "execution_count": 9,
   "metadata": {},
   "outputs": [],
   "source": [
    "def get_mofifiers(node_modifiers):\n",
    "    modifier_lst = []\n",
    "\n",
    "    for modi in node_modifiers:\n",
    "        modifier_lst.append(modi)\n",
    "\n",
    "    return modifier_lst"
   ]
  },
  {
   "cell_type": "code",
   "execution_count": 10,
   "metadata": {},
   "outputs": [],
   "source": [
    "def get_annotations(annotations_body):\n",
    "    annotations_lst = []\n",
    "    if annotations_body:\n",
    "        for annotation in annotations_body:\n",
    "            annotations_lst.append(annotation.name)\n",
    "            \n",
    "    return annotations_lst"
   ]
  },
  {
   "cell_type": "code",
   "execution_count": 11,
   "metadata": {},
   "outputs": [],
   "source": [
    "def get_parameters(parameters_body):\n",
    "    parameters_lst = []\n",
    "    for param in parameters_body:\n",
    "        param_type = getattr(param.type, 'name', 'Unknown')\n",
    "        data = {\n",
    "            \"name\": param.name,\n",
    "            \"type\": param_type\n",
    "        }\n",
    "        parameters_lst.append(data)\n",
    "\n",
    "    return parameters_lst"
   ]
  },
  {
   "cell_type": "code",
   "execution_count": 12,
   "metadata": {},
   "outputs": [],
   "source": [
    "def get_class_variables(node):\n",
    "    variable_lst = []\n",
    "    for body_item in node.body:\n",
    "        if isinstance(body_item, javalang.tree.FieldDeclaration):\n",
    "            for declarator in body_item.declarators:\n",
    "                field_type = getattr(body_item.type, 'name', 'Unknown')\n",
    "                data = {\n",
    "                    \"name\": declarator.name,\n",
    "                    \"type\": field_type,\n",
    "                    \"modifiers\": get_mofifiers(body_item.modifiers)\n",
    "                }\n",
    "                variable_lst.append(data)\n",
    "    return variable_lst"
   ]
  },
  {
   "cell_type": "code",
   "execution_count": 13,
   "metadata": {},
   "outputs": [],
   "source": [
    "def get_constructors(node, lines, tree):\n",
    "    constructor_lst = []\n",
    "    for body_item in node.body:\n",
    "        if isinstance(body_item, javalang.tree.ConstructorDeclaration):\n",
    "            full_constructor_code = extract_code_with_brackets(body_item, lines)\n",
    "\n",
    "            used_imports = get_imports_used_in_method(full_constructor_code, tree.imports)\n",
    "\n",
    "            data = {\n",
    "                \"name\": body_item.name,\n",
    "                \"modifiers\": get_mofifiers(body_item.modifiers),\n",
    "                \"annotations\": get_annotations(body_item.annotations),\n",
    "                \"parameters\": get_parameters(body_item.parameters),\n",
    "                \"used_imports\": used_imports\n",
    "            }\n",
    "            constructor_lst.append(data)\n",
    "\n",
    "    return constructor_lst\n",
    "    "
   ]
  },
  {
   "cell_type": "code",
   "execution_count": 14,
   "metadata": {},
   "outputs": [],
   "source": [
    "def get_throws(method):   \n",
    "\n",
    "    if method:\n",
    "        return method\n",
    "    else:\n",
    "        return []"
   ]
  },
  {
   "cell_type": "code",
   "execution_count": 15,
   "metadata": {},
   "outputs": [],
   "source": [
    "def get_methods(node, lines, tree):\n",
    "    method_lst = []\n",
    "    for body_item in node.body:\n",
    "        if isinstance(body_item, javalang.tree.MethodDeclaration):\n",
    "\n",
    "            full_method_code = extract_code_with_brackets(body_item, lines) \n",
    "\n",
    "            # print(full_method_code)\n",
    "            # print(\"====\"*10)\n",
    "\n",
    "            used_imports = get_imports_used_in_method(full_method_code, tree.imports)\n",
    "            data = {\n",
    "                \"name\": body_item.name,\n",
    "                \"modifiers\": get_mofifiers(body_item.modifiers),\n",
    "                \"return_type\": body_item.return_type.name if body_item.return_type else 'void',\n",
    "                \"annotations\": get_annotations(body_item.annotations),\n",
    "                \"parameters\": get_parameters(body_item.parameters),\n",
    "                \"used_imports\": used_imports,\n",
    "                \"throws\": get_throws(body_item.throws)\n",
    "            }\n",
    "            method_lst.append(data)\n",
    "            \n",
    "    return method_lst"
   ]
  },
  {
   "cell_type": "code",
   "execution_count": 16,
   "metadata": {},
   "outputs": [],
   "source": [
    "def get_class(node, tree, lines, repo_structure):\n",
    "    nested_lst = []\n",
    "    if 'classes' not in repo_structure:\n",
    "        repo_structure['classes'] = []\n",
    "\n",
    "    for inner_node in node.body:\n",
    "        if isinstance(inner_node, javalang.tree.ClassDeclaration):\n",
    "            nested_lst.append(inner_node.name)\n",
    "\n",
    "    class_details = {\n",
    "        'name': node.name,\n",
    "        \"modifiers\": get_mofifiers(node.modifiers),\n",
    "        \"extends\": node.extends.name if node.extends else None,\n",
    "        \"implements\": [iface.name for iface in node.implements] if node.implements else [],\n",
    "        \"nested_classes\": nested_lst,\n",
    "        \"used_imports\": get_class_imports(tree, node),\n",
    "        \"variables\": get_class_variables(node),\n",
    "        \"constructors\": get_constructors(node, lines, tree),\n",
    "        \"methods\": get_methods(node, lines, tree)\n",
    "    }\n",
    "\n",
    "    repo_structure['classes'].append(class_details) "
   ]
  },
  {
   "cell_type": "code",
   "execution_count": 17,
   "metadata": {},
   "outputs": [],
   "source": [
    "def read_java_file(file_path):\n",
    "    try:\n",
    "        with open(file_path, 'r', encoding='ISO-8859-1') as file:\n",
    "            content = file.read()\n",
    "\n",
    "        return content\n",
    "    \n",
    "    except FileNotFoundError:\n",
    "        print(f\"Error: The file '{file_path}' does not exist.\")\n",
    "        return None\n",
    "    \n",
    "    except IOError:\n",
    "        print(f\"Error: Could not read the file '{file_path}'.\")\n",
    "        return None"
   ]
  },
  {
   "cell_type": "code",
   "execution_count": 18,
   "metadata": {},
   "outputs": [],
   "source": [
    "def drive(tree, lines, repo_structure):\n",
    "    for _, node in tree:\n",
    "        if isinstance(node, javalang.tree.ClassDeclaration):\n",
    "            get_package_name(tree, repo_structure)\n",
    "            get_imports(tree, repo_structure)\n",
    "            get_class(node, tree, lines ,repo_structure)\n",
    "\n",
    "        elif isinstance(node, javalang.tree.InterfaceDeclaration):\n",
    "            get_package_name(tree, repo_structure)\n",
    "            get_imports(tree, repo_structure)"
   ]
  },
  {
   "cell_type": "code",
   "execution_count": null,
   "metadata": {},
   "outputs": [],
   "source": [
    "def file_router(path, repo_structure):\n",
    "    if path.endswith('.png') or path.endswith('.jpg'):\n",
    "        repo_structure['size'] = str(os.path.getsize(path)) + \" bytes\"\n",
    "\n",
    "    elif path.endswith('.java'):\n",
    "        java_code = read_java_file(path)\n",
    "\n",
    "        tree = javalang.parse.parse(java_code)\n",
    "        lines = java_code.splitlines()\n",
    "        drive(tree, lines, repo_structure)\n",
    "            "
   ]
  },
  {
   "cell_type": "code",
   "execution_count": 20,
   "metadata": {},
   "outputs": [],
   "source": [
    "def get_repo_structure(path):\n",
    "    repo_structure = {}\n",
    "\n",
    "    for content in os.listdir(path):\n",
    "        content_path = os.path.join(path, content)\n",
    "\n",
    "        if content.startswith('.') or content == \".DS_Store\":\n",
    "            continue\n",
    "\n",
    "        if os.path.isfile(content_path):\n",
    "            repo_structure[content] = {}\n",
    "            file_router(content_path, repo_structure[content])\n",
    "\n",
    "        elif os.path.isdir(content_path):\n",
    "            repo_structure[content] = get_repo_structure(content_path)\n",
    "\n",
    "    return repo_structure"
   ]
  },
  {
   "cell_type": "code",
   "execution_count": 21,
   "metadata": {},
   "outputs": [
    {
     "name": "stdout",
     "output_type": "stream",
     "text": [
      "/Users/abdulrafay/Desktop/RP/Code_Extraction/acmeair/acmeair-services/src/main/java/com/acmeair/service/KeyGenerator.java\n",
      "/Users/abdulrafay/Desktop/RP/Code_Extraction/acmeair/acmeair-services/src/main/java/com/acmeair/service/BookingService.java\n",
      "/Users/abdulrafay/Desktop/RP/Code_Extraction/acmeair/acmeair-services/src/main/java/com/acmeair/service/FlightService.java\n",
      "/Users/abdulrafay/Desktop/RP/Code_Extraction/acmeair/acmeair-services/src/main/java/com/acmeair/service/CustomerService.java\n"
     ]
    }
   ],
   "source": [
    "path = '/Users/abdulrafay/Desktop/RP/Code_Extraction/acmeair/acmeair-services/src/main/java/com/acmeair/service'\n",
    "\n",
    "with open(\"data.json\", \"w\") as json_file:\n",
    "    json.dump(get_repo_structure(path), json_file, indent=3)"
   ]
  },
  {
   "cell_type": "code",
   "execution_count": null,
   "metadata": {},
   "outputs": [],
   "source": []
  }
 ],
 "metadata": {
  "kernelspec": {
   "display_name": "Python 3",
   "language": "python",
   "name": "python3"
  },
  "language_info": {
   "codemirror_mode": {
    "name": "ipython",
    "version": 3
   },
   "file_extension": ".py",
   "mimetype": "text/x-python",
   "name": "python",
   "nbconvert_exporter": "python",
   "pygments_lexer": "ipython3",
   "version": "3.10.15"
  }
 },
 "nbformat": 4,
 "nbformat_minor": 2
}
