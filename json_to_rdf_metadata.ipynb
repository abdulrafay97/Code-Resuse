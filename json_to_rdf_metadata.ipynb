{
 "cells": [
  {
   "cell_type": "code",
   "execution_count": 1,
   "metadata": {},
   "outputs": [],
   "source": [
    "import json\n",
    "import os\n",
    "import rdflib\n",
    "import urllib.parse\n",
    "from rdflib import URIRef, Literal\n",
    "from rdflib.namespace import RDF\n",
    "from rdflib.namespace import Namespace\n",
    "from decimal import Decimal"
   ]
  },
  {
   "cell_type": "code",
   "execution_count": 2,
   "metadata": {},
   "outputs": [],
   "source": [
    "def read_json(file_path):\n",
    "    with open(file_path, 'r') as file:\n",
    "        meta_data = json.load(file)\n",
    "\n",
    "    return meta_data"
   ]
  },
  {
   "cell_type": "code",
   "execution_count": 3,
   "metadata": {},
   "outputs": [],
   "source": [
    "base = Namespace(\"http://codereuse.org/\")"
   ]
  },
  {
   "cell_type": "code",
   "execution_count": 4,
   "metadata": {},
   "outputs": [],
   "source": [
    "repo = Namespace(f\"{base}repository/\")\n",
    "person = Namespace(f\"{base}person/\")\n",
    "issue = Namespace(f\"{base}issue/\")\n",
    "pull_request = Namespace(f\"{base}pull_request/\")\n",
    "topic = Namespace(f\"{base}topic/\")\n",
    "language_ = Namespace(f\"{base}language/\")\n",
    "entity = Namespace(f\"{base}entity/\")\n",
    "status = Namespace(f\"{base}status/\")\n",
    "FOAF = Namespace(\"http://xmlns.com/foaf/0.1/\")\n",
    "DCTERMS = Namespace(\"http://purl.org/dc/terms/\")"
   ]
  },
  {
   "cell_type": "code",
   "execution_count": 5,
   "metadata": {},
   "outputs": [],
   "source": [
    "TYPE_MAP = {\n",
    "    'repo': repo,\n",
    "    'person': person,\n",
    "    'issue': issue,\n",
    "    'pull_request': pull_request,\n",
    "    'topic': topic,\n",
    "    'language': language_,\n",
    "    'entity': entity,\n",
    "    'status': status\n",
    "}"
   ]
  },
  {
   "cell_type": "code",
   "execution_count": 6,
   "metadata": {},
   "outputs": [],
   "source": [
    "def make_uri(type_, name):\n",
    "    namespace = TYPE_MAP.get(type_)\n",
    "    if namespace: \n",
    "        return namespace[name]\n",
    "    else: \n",
    "        return URIRef(name)"
   ]
  },
  {
   "cell_type": "code",
   "execution_count": 7,
   "metadata": {},
   "outputs": [],
   "source": [
    "def make_predicate(name):\n",
    "    return base[name]"
   ]
  },
  {
   "cell_type": "code",
   "execution_count": 8,
   "metadata": {},
   "outputs": [],
   "source": [
    "def parse_string(string_to_encode):\n",
    "    encoded_string = urllib.parse.quote(string_to_encode)\n",
    "    custom_encoded_string = encoded_string.replace('%', '-')\n",
    "\n",
    "    return custom_encoded_string"
   ]
  },
  {
   "cell_type": "code",
   "execution_count": 9,
   "metadata": {},
   "outputs": [],
   "source": [
    "def combine_string(string1, string2):\n",
    "    return string1 + \"/\" + string2"
   ]
  },
  {
   "cell_type": "code",
   "execution_count": 10,
   "metadata": {},
   "outputs": [],
   "source": [
    "def make_profile_url(username):\n",
    "    return \"https://github.com/\" + username"
   ]
  },
  {
   "cell_type": "code",
   "execution_count": 11,
   "metadata": {},
   "outputs": [],
   "source": [
    "def make_issue_url(repo_author, repo_name, issue_no):\n",
    "    return \"https://github.com/\" + repo_author + \"/\" + repo_name + \"/issues/\" + issue_no "
   ]
  },
  {
   "cell_type": "code",
   "execution_count": 12,
   "metadata": {},
   "outputs": [],
   "source": [
    "def make_repo_url(username, reponame):\n",
    "    return \"https://github.com/\" + username + \"/\" + reponame"
   ]
  },
  {
   "cell_type": "code",
   "execution_count": 13,
   "metadata": {},
   "outputs": [],
   "source": [
    "def count_issue_ratio(data):\n",
    "    closed = 0\n",
    "    open = 0\n",
    "    for issue in data:\n",
    "        if issue['issue_status'] == 'closed':\n",
    "            closed+=1\n",
    "        elif issue['issue_status'] == 'open':\n",
    "            open+=1\n",
    "\n",
    "    return open, closed"
   ]
  },
  {
   "cell_type": "code",
   "execution_count": 14,
   "metadata": {},
   "outputs": [],
   "source": [
    "def count_forks_ratio(data):\n",
    "    Inactive = 0\n",
    "    active = 0\n",
    "    for fork in data:\n",
    "        if fork['repo_status'] == 'Inactive':\n",
    "            Inactive+=1\n",
    "        elif fork['repo_status'] == 'active':\n",
    "            active+=1\n",
    "\n",
    "    return active, Inactive"
   ]
  },
  {
   "cell_type": "code",
   "execution_count": 15,
   "metadata": {},
   "outputs": [],
   "source": [
    "def make_author_rdf(graph, data):\n",
    "    graph.add((make_uri('person', data['author']), DCTERMS.type, make_uri('entity', 'author')))\n",
    "    graph.add((make_uri('person', data['author']), FOAF.accountName, Literal(data['author'])))\n",
    "    graph.add((make_uri('person', data['author']), FOAF.hasUrl, URIRef(make_profile_url(data['author']))))"
   ]
  },
  {
   "cell_type": "code",
   "execution_count": 16,
   "metadata": {},
   "outputs": [],
   "source": [
    "def make_repo_rdf(data, graph):\n",
    "    graph.add((make_uri('repo', data['repositoryName']), DCTERMS.type, make_uri('entity', 'repository')))\n",
    "    graph.add((make_uri('repo', data['repositoryName']), FOAF.hasUrl, URIRef(data['url'])))\n",
    "    graph.add((make_uri('repo', data['repositoryName']), make_predicate('hasAuthor'), make_uri('person', data['author'])))\n",
    "    make_author_rdf(graph, data)\n",
    "\n",
    "    if data['about']:\n",
    "        graph.add((make_uri('repo', data['repositoryName']), DCTERMS.description, Literal(data['about'])))"
   ]
  },
  {
   "cell_type": "code",
   "execution_count": 17,
   "metadata": {},
   "outputs": [],
   "source": [
    "def make_topic_rdf(data, graph):\n",
    "    if data['topics']:\n",
    "        for topicname in data['topics']:\n",
    "            graph.add((make_uri('repo', data['repositoryName']), DCTERMS.subject, make_uri('topic', parse_string(topicname))))"
   ]
  },
  {
   "cell_type": "code",
   "execution_count": 18,
   "metadata": {},
   "outputs": [],
   "source": [
    "def make_language_rdf(data, graph):\n",
    "    if data['languages']:\n",
    "        count = 1\n",
    "        for prog_language in data['languages']:\n",
    "            temp_string = combine_string(data['repositoryName'], \"languageInfo\")\n",
    "            temp_string = combine_string(temp_string, str(count))\n",
    "\n",
    "            graph.add((make_uri('repo', data['repositoryName']), DCTERMS.language, make_uri('repo', temp_string)))\n",
    "            graph.add((make_uri('repo', temp_string), make_predicate('hasLanguageUsage'), Literal(Decimal(data['languages'][prog_language].strip('%')))))\n",
    "            graph.add((make_uri('repo', temp_string), make_predicate('hasLanguageName'), make_uri('language', parse_string(prog_language))))\n",
    "            graph.add((make_uri('language', parse_string(prog_language)), DCTERMS.type, make_uri('entity', 'language')))\n",
    "\n",
    "            count+=1"
   ]
  },
  {
   "cell_type": "code",
   "execution_count": 19,
   "metadata": {},
   "outputs": [],
   "source": [
    "def make_star_rdf(data, graph):\n",
    "    if data['stars']:\n",
    "        graph.add((make_uri('repo', data['repositoryName']), make_predicate('hasStarCount'), Literal(len(data['stars']))))\n",
    "        for stargazer in data['stars']:\n",
    "            graph.add((make_uri('person', stargazer['user_name']), DCTERMS.type, make_uri('entity', 'stargazer')))\n",
    "            graph.add((make_uri('repo', data['repositoryName']), make_predicate('hasStargazer'), make_uri('person', stargazer['user_name'])))\n",
    "            graph.add((make_uri('person', stargazer['user_name']), make_predicate('StarsRepo'), make_uri('repo', data['repositoryName'])))\n",
    "            graph.add((make_uri('person', stargazer['user_name']), FOAF.about, Literal(stargazer['user_about'])))\n",
    "            graph.add((make_uri('person', stargazer['user_name']), FOAF.accountName, Literal(stargazer['user_name'])))\n",
    "            graph.add((make_uri('person', stargazer['user_name']), FOAF.hasUrl, URIRef(make_profile_url(stargazer['user_name']))))"
   ]
  },
  {
   "cell_type": "code",
   "execution_count": 20,
   "metadata": {},
   "outputs": [],
   "source": [
    "def make_watcher_rdf(data, graph):\n",
    "    if data['watchers']:\n",
    "        graph.add((make_uri('repo', data['repositoryName']), make_predicate('hasWatcherCount'), Literal(len(data['watchers']))))\n",
    "        for watcher in data['watchers']:\n",
    "            graph.add((make_uri('person', watcher['user_name']), DCTERMS.type, make_uri('entity', 'watcher')))\n",
    "            graph.add((make_uri('repo', data['repositoryName']), make_predicate('haswatcher'), make_uri('person', watcher['user_name'])))\n",
    "            graph.add((make_uri('person', watcher['user_name']), make_predicate('watchesRepo'), make_uri('repo', data['repositoryName'])))\n",
    "            graph.add((make_uri('person', watcher['user_name']), FOAF.about, Literal(watcher['user_about'])))\n",
    "            graph.add((make_uri('person', watcher['user_name']), FOAF.accountName, Literal(watcher['user_name'])))\n",
    "            graph.add((make_uri('person', watcher['user_name']), FOAF.hasUrl, URIRef(make_profile_url(watcher['user_name']))))"
   ]
  },
  {
   "cell_type": "code",
   "execution_count": 21,
   "metadata": {},
   "outputs": [],
   "source": [
    "def make_forked_rdf(data, graph):\n",
    "    if data['forks']:\n",
    "        active, inactive = count_forks_ratio(data['forks'])\n",
    "        graph.add((make_uri('repo', data['repositoryName']), make_predicate('hasActiveForkCount'), Literal(active)))\n",
    "        graph.add((make_uri('repo', data['repositoryName']), make_predicate('hasInActiveForkCount'), Literal(inactive)))\n",
    "\n",
    "        graph.add((make_uri('repo', data['repositoryName']), make_predicate('hasTotalForkCount'), Literal(len(data['forks']))))\n",
    "        \n",
    "        for forker in data['forks']:\n",
    "            graph.add((make_uri('person', forker['user_name']), DCTERMS.type, make_uri('entity', 'forker')))\n",
    "            graph.add((make_uri('person', forker['user_name']), FOAF.accountName, Literal(forker['user_name'])))\n",
    "            graph.add((make_uri('person', forker['user_name']), FOAF.hasUrl, URIRef(make_profile_url(forker['user_name']))))\n",
    "            \n",
    "            temp_string = combine_string(data['repositoryName'], \"forkedBy\")\n",
    "            temp_string = combine_string(temp_string, forker['user_name'])\n",
    "\n",
    "            graph.add((make_uri('repo', temp_string), make_predicate('repoForkedFrom'), make_uri('repo', data['repositoryName'])))\n",
    "            graph.add((make_uri('repo', temp_string), make_predicate('forkedBy'), make_uri('person', forker['user_name'])))\n",
    "            graph.add((make_uri('repo', temp_string), make_predicate('hasStatus'), make_uri('status', forker['repo_status'])))\n",
    "            graph.add((make_uri('repo', temp_string), FOAF.hasUrl, URIRef(make_repo_url(forker['user_name'], forker['repo_forked_as']))))\n",
    "            graph.add((make_uri('repo', temp_string), DCTERMS.type, make_uri('entity', 'forkedRepository')))"
   ]
  },
  {
   "cell_type": "code",
   "execution_count": 22,
   "metadata": {},
   "outputs": [],
   "source": [
    "def make_contributes_rdf(data, graph):\n",
    "    if data['contributors']:\n",
    "        graph.add((make_uri('repo', data['repositoryName']), make_predicate('hasContributorCount'), Literal(len(data['contributors']))))\n",
    "        for contributor in data['contributors']:\n",
    "            graph.add((make_uri('person', contributor['user_name']), DCTERMS.type, make_uri('entity', 'contributor')))\n",
    "            graph.add((make_uri('repo', data['repositoryName']), make_predicate('hasContributer'), make_uri('person', contributor['user_name'])))\n",
    "            graph.add((make_uri('person', contributor['user_name']), make_predicate('ContibutesTo'), make_uri('repo', data['repositoryName'])))\n",
    "            graph.add((make_uri('person', contributor['user_name']), make_predicate('hasContributedCommits'), Literal(contributor['no_of_commits'])))\n",
    "            graph.add((make_uri('person', contributor['user_name']), FOAF.accountName, Literal(contributor['user_name'])))\n",
    "            graph.add((make_uri('person', contributor['user_name']), FOAF.hasUrl, URIRef(make_profile_url(contributor['user_name']))))\n",
    "            "
   ]
  },
  {
   "cell_type": "code",
   "execution_count": 23,
   "metadata": {},
   "outputs": [],
   "source": [
    "def make_issues_rdf(data, graph):\n",
    "    if data['issues']:\n",
    "        open, closed = count_issue_ratio(data['issues'])\n",
    "        graph.add((make_uri('repo', data['repositoryName']), make_predicate('hasOpenIssueCount'), Literal(open)))\n",
    "        graph.add((make_uri('repo', data['repositoryName']), make_predicate('hasClosedIssueCount'), Literal(closed)))\n",
    "        \n",
    "        graph.add((make_uri('repo', data['repositoryName']), make_predicate('hasTotalIssueCount'), Literal(len(data['issues']))))\n",
    "        \n",
    "        for issue in data['issues']:\n",
    "            temp_string = combine_string('issue', issue['issue_id'])\n",
    "            temp_string = combine_string(data['repositoryName'], temp_string)\n",
    "\n",
    "            graph.add((make_uri('repo', data['repositoryName']), make_predicate('hasIssue'), make_uri('repo', temp_string)))\n",
    "            \n",
    "            graph.add((make_uri('repo', temp_string), DCTERMS.title, Literal(issue['issue_title'])))\n",
    "            graph.add((make_uri('repo', temp_string), make_predicate('hasStatus'), make_uri('status', issue['issue_status'])))\n",
    "            graph.add((make_uri('repo', temp_string), make_predicate('createdBy'), make_uri('person', issue['issue_author'])))\n",
    "            graph.add((make_uri('repo', temp_string), FOAF.hasUrl, URIRef(make_issue_url(data['author'], data['repositoryName'], issue['issue_id']))))\n",
    "            \n",
    "            graph.add((make_uri('person', issue['issue_author']), DCTERMS.type, make_uri('entity', 'issueAuthor')))\n",
    "            graph.add((make_uri('person', issue['issue_author']), FOAF.accountName, Literal(issue['issue_author'])))\n",
    "            graph.add((make_uri('person', issue['issue_author']), FOAF.hasUrl, URIRef(make_profile_url(issue['issue_author']))))\n"
   ]
  },
  {
   "cell_type": "code",
   "execution_count": 24,
   "metadata": {},
   "outputs": [],
   "source": [
    "json_files_path = '/Users/abdulrafay/Desktop/RP/RDF_Graph/Jsons'\n",
    "files = os.listdir(json_files_path)"
   ]
  },
  {
   "cell_type": "code",
   "execution_count": 25,
   "metadata": {},
   "outputs": [],
   "source": [
    "graph = rdflib.Graph()"
   ]
  },
  {
   "cell_type": "code",
   "execution_count": 26,
   "metadata": {},
   "outputs": [],
   "source": [
    "for file in files:\n",
    "    if file != '.DS_Store':\n",
    "        path = os.path.join(json_files_path, file)\n",
    "        json_data = read_json(path)\n",
    "        \n",
    "        make_repo_rdf(json_data, graph)\n",
    "        make_topic_rdf(json_data, graph)\n",
    "        make_language_rdf(json_data, graph)\n",
    "        make_star_rdf(json_data, graph)\n",
    "        make_watcher_rdf(json_data, graph)\n",
    "        make_forked_rdf(json_data, graph)\n",
    "        make_contributes_rdf(json_data, graph)\n",
    "        make_issues_rdf(json_data, graph)"
   ]
  },
  {
   "cell_type": "code",
   "execution_count": 27,
   "metadata": {},
   "outputs": [
    {
     "name": "stderr",
     "output_type": "stream",
     "text": [
      "/Users/abdulrafay/.pyenv/versions/3.10.15/lib/python3.10/site-packages/rdflib/plugins/serializers/nt.py:41: UserWarning: NTSerializer always uses UTF-8 encoding. Given encoding was: UTF-8\n",
      "  warnings.warn(\n"
     ]
    },
    {
     "data": {
      "text/plain": [
       "<Graph identifier=N02860d885397469ca4a361d805606f8f (<class 'rdflib.graph.Graph'>)>"
      ]
     },
     "execution_count": 27,
     "metadata": {},
     "output_type": "execute_result"
    }
   ],
   "source": [
    "graph.serialize(destination=\"output.nt\", format=\"nt\", encoding='UTF-8')"
   ]
  },
  {
   "cell_type": "code",
   "execution_count": null,
   "metadata": {},
   "outputs": [],
   "source": []
  },
  {
   "cell_type": "code",
   "execution_count": null,
   "metadata": {},
   "outputs": [],
   "source": []
  }
 ],
 "metadata": {
  "kernelspec": {
   "display_name": "Python 3",
   "language": "python",
   "name": "python3"
  },
  "language_info": {
   "codemirror_mode": {
    "name": "ipython",
    "version": 3
   },
   "file_extension": ".py",
   "mimetype": "text/x-python",
   "name": "python",
   "nbconvert_exporter": "python",
   "pygments_lexer": "ipython3",
   "version": "3.10.15"
  }
 },
 "nbformat": 4,
 "nbformat_minor": 2
}
