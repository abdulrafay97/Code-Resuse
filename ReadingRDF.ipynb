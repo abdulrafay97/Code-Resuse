{
 "cells": [
  {
   "cell_type": "code",
   "execution_count": 1,
   "id": "e693abea-f52d-43ab-b754-52fbb593a4c1",
   "metadata": {},
   "outputs": [],
   "source": [
    "import rdflib\n",
    "import re\n",
    "import pickle\n",
    "import os\n",
    "import random"
   ]
  },
  {
   "cell_type": "code",
   "execution_count": 2,
   "id": "2153d83c",
   "metadata": {},
   "outputs": [
    {
     "data": {
      "text/plain": [
       "<Graph identifier=N66688716f00743e89e714557c0adfe58 (<class 'rdflib.graph.Graph'>)>"
      ]
     },
     "execution_count": 2,
     "metadata": {},
     "output_type": "execute_result"
    }
   ],
   "source": [
    "g = rdflib.Graph()\n",
    "\n",
    "g.parse(\"Data/linkedpaperswithcode.nt\", format=\"nt\")"
   ]
  },
  {
   "cell_type": "code",
   "execution_count": 3,
   "id": "a475a247-64d5-4bb4-8c1b-1568c9f82e1c",
   "metadata": {},
   "outputs": [],
   "source": [
    "query = \"\"\"\n",
    "    SELECT  *\n",
    "    WHERE {\n",
    "        ?sub <http://www.w3.org/1999/02/22-rdf-syntax-ns#type> <https://linkedpaperswithcode.com/class/repository> .\n",
    "    }\n",
    "\"\"\"\n"
   ]
  },
  {
   "cell_type": "code",
   "execution_count": 4,
   "id": "cd2b82be-194b-4844-9ac4-d7c8b2ace67a",
   "metadata": {},
   "outputs": [],
   "source": [
    "result = g.query(query)"
   ]
  },
  {
   "cell_type": "code",
   "execution_count": 5,
   "id": "2682143d",
   "metadata": {},
   "outputs": [],
   "source": [
    "result_backup = result"
   ]
  },
  {
   "cell_type": "code",
   "execution_count": 6,
   "id": "e82f170e",
   "metadata": {},
   "outputs": [],
   "source": [
    "pattern = r\"(?<=repository\\/).*\""
   ]
  },
  {
   "cell_type": "code",
   "execution_count": 7,
   "id": "b89e9126-3b8b-4a17-9599-4b392a33f95f",
   "metadata": {},
   "outputs": [],
   "source": [
    "count = 0\n",
    "lst = []\n",
    "\n",
    "for row in result_backup:\n",
    "    match = re.search(r\"(?<=repository\\/).*\", str(row[0])).group()\n",
    "    \n",
    "    if match:\n",
    "        match = \"https://\" + match\n",
    "        count+=1\n",
    "        lst.append(match)\n"
   ]
  },
  {
   "cell_type": "code",
   "execution_count": 8,
   "id": "c11b8317",
   "metadata": {},
   "outputs": [
    {
     "name": "stdout",
     "output_type": "stream",
     "text": [
      "Total URLS:  205163\n"
     ]
    }
   ],
   "source": [
    "filname = \"repo_urls\" + \".pkl\"\n",
    "file_path = os.path.join(\"/Users/abdulrafay/Desktop/Research Project/Data/Repo_URL\", filname)\n",
    "\n",
    "lst1 = random.sample(lst, 5000)\n",
    "\n",
    "\n",
    "with open(file_path, 'wb') as f:\n",
    "    pickle.dump(lst1, f)\n",
    "\n",
    "\n",
    "print(\"Total URLS: \", count)"
   ]
  },
  {
   "cell_type": "code",
   "execution_count": 11,
   "id": "564ab2e7",
   "metadata": {},
   "outputs": [
    {
     "name": "stdout",
     "output_type": "stream",
     "text": [
      "5000\n"
     ]
    }
   ],
   "source": [
    "print(len(lst1))"
   ]
  },
  {
   "cell_type": "code",
   "execution_count": null,
   "id": "ad6c1260",
   "metadata": {},
   "outputs": [],
   "source": []
  }
 ],
 "metadata": {
  "kernelspec": {
   "display_name": "Python 3",
   "language": "python",
   "name": "python3"
  },
  "language_info": {
   "codemirror_mode": {
    "name": "ipython",
    "version": 3
   },
   "file_extension": ".py",
   "mimetype": "text/x-python",
   "name": "python",
   "nbconvert_exporter": "python",
   "pygments_lexer": "ipython3",
   "version": "3.10.15"
  }
 },
 "nbformat": 4,
 "nbformat_minor": 5
}
