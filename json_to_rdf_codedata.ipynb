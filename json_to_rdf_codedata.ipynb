{
 "cells": [
  {
   "cell_type": "code",
   "execution_count": 262,
   "metadata": {},
   "outputs": [],
   "source": [
    "import json\n",
    "import os\n",
    "import rdflib\n",
    "import urllib.parse\n",
    "from rdflib import URIRef, Literal\n",
    "from rdflib.namespace import RDF\n",
    "from rdflib.namespace import Namespace\n",
    "from decimal import Decimal\n",
    "import urllib.parse"
   ]
  },
  {
   "cell_type": "code",
   "execution_count": 263,
   "metadata": {},
   "outputs": [],
   "source": [
    "def read_json(file_path):\n",
    "    with open(file_path, 'r') as file:\n",
    "        code_data = json.load(file)\n",
    "\n",
    "    return code_data"
   ]
  },
  {
   "cell_type": "code",
   "execution_count": 264,
   "metadata": {},
   "outputs": [],
   "source": [
    "base = Namespace(\"http://codereuse.org/\")"
   ]
  },
  {
   "cell_type": "code",
   "execution_count": 265,
   "metadata": {},
   "outputs": [],
   "source": [
    "repo = Namespace(f\"{base}repository/\")\n",
    "entity = Namespace(f\"{base}entity/\")\n",
    "package = Namespace(f\"{base}package/\")\n",
    "java_class = Namespace(f\"{base}java_class/\")\n",
    "modifier = Namespace(f\"{base}modifer/\")\n",
    "implement = Namespace(f\"{base}implement/\")\n",
    "variable_type = Namespace(f\"{base}variable_type/\")\n",
    "parameter_type = Namespace(f\"{base}parameter_type/\")"
   ]
  },
  {
   "cell_type": "code",
   "execution_count": 266,
   "metadata": {},
   "outputs": [],
   "source": [
    "DCTERMS = Namespace(\"http://purl.org/dc/terms/\")"
   ]
  },
  {
   "cell_type": "code",
   "execution_count": 267,
   "metadata": {},
   "outputs": [],
   "source": [
    "TYPE_MAP = {\n",
    "    'repo': repo,\n",
    "    'entity': entity,\n",
    "    'base':base,\n",
    "    'package': package,\n",
    "    'java_class': java_class,\n",
    "    'modifier': modifier,\n",
    "    'variable_type': variable_type,\n",
    "    'parameter_type': parameter_type\n",
    "}"
   ]
  },
  {
   "cell_type": "code",
   "execution_count": 268,
   "metadata": {},
   "outputs": [],
   "source": [
    "def make_uri(type_, name):\n",
    "    namespace = TYPE_MAP.get(type_)\n",
    "    if namespace: \n",
    "        return namespace[name]\n",
    "    else: \n",
    "        return URIRef(name)"
   ]
  },
  {
   "cell_type": "code",
   "execution_count": 269,
   "metadata": {},
   "outputs": [],
   "source": [
    "def make_predicate(name):\n",
    "    return base[name]"
   ]
  },
  {
   "cell_type": "code",
   "execution_count": 270,
   "metadata": {},
   "outputs": [],
   "source": [
    "def encode_string(uri):\n",
    "    encoded_uri = urllib.parse.quote(uri, safe=\":/\")\n",
    "\n",
    "    return encoded_uri"
   ]
  },
  {
   "cell_type": "code",
   "execution_count": 271,
   "metadata": {},
   "outputs": [],
   "source": [
    "def combine_string(string1, string2, string3, string4):\n",
    "    return string1 + \"/\" + string2 + \"/\" + string3 + \"/\" + string4"
   ]
  },
  {
   "cell_type": "code",
   "execution_count": 272,
   "metadata": {},
   "outputs": [],
   "source": [
    "def setup_repo_name(repo_name, graph):\n",
    "    repo_name = repo_name.strip('.json')\n",
    "    graph.add((make_uri('repo', repo_name), DCTERMS.type, make_uri('entity', 'repository')))\n",
    "\n",
    "    return repo_name"
   ]
  },
  {
   "cell_type": "code",
   "execution_count": 273,
   "metadata": {},
   "outputs": [],
   "source": [
    "def make_file_rdf(filename, graph, repo_name):\n",
    "    graph.add((make_uri('repo', repo_name), make_predicate('hasFile'), make_uri('base', filename)))"
   ]
  },
  {
   "cell_type": "code",
   "execution_count": 274,
   "metadata": {},
   "outputs": [],
   "source": [
    "def make_package_rdf(filename, graph, data):\n",
    "    graph.add((make_uri('base', filename), make_predicate('hasPackage'), Literal(data)))"
   ]
  },
  {
   "cell_type": "code",
   "execution_count": 275,
   "metadata": {},
   "outputs": [],
   "source": [
    "def make_import_rdf(filename, graph, data):\n",
    "    for _import in data:\n",
    "        graph.add((make_uri('base', filename), make_predicate('hasImport'), Literal(_import)))"
   ]
  },
  {
   "cell_type": "code",
   "execution_count": 276,
   "metadata": {},
   "outputs": [],
   "source": [
    "def make_class_modifier_rdf(j_class, graph, data):\n",
    "    for modifier in data:\n",
    "        graph.add((make_uri('base', j_class), make_predicate('hasClassModifier'), make_uri('modifier', modifier)))"
   ]
  },
  {
   "cell_type": "code",
   "execution_count": 277,
   "metadata": {},
   "outputs": [],
   "source": [
    "def make_class_extends_rdf(j_class, graph, data):\n",
    "    graph.add((make_uri('base', j_class), make_predicate('classExtendsTo'), make_uri('java_class', data)))"
   ]
  },
  {
   "cell_type": "code",
   "execution_count": 278,
   "metadata": {},
   "outputs": [],
   "source": [
    "def make_class_implements_rdf(j_class, graph, data):\n",
    "    for implement in data:\n",
    "        graph.add((make_uri('base', j_class), make_predicate('classImplementsTo'), make_uri('java_class', implement)))"
   ]
  },
  {
   "cell_type": "code",
   "execution_count": 279,
   "metadata": {},
   "outputs": [],
   "source": [
    "def make_class_variables_rdf(j_variable, graph, data):\n",
    "    graph.add((make_uri('base', j_variable), make_predicate('hasType'), make_uri('variable_type', encode_string(data['type']))))\n",
    "\n",
    "    for v_modifer in data['modifiers']:\n",
    "        graph.add((make_uri('base', j_variable), make_predicate('hasVariableModifier'), make_uri('modifier', v_modifer)))"
   ]
  },
  {
   "cell_type": "code",
   "execution_count": 280,
   "metadata": {},
   "outputs": [],
   "source": [
    "def make_class_constructor_rdf(j_constructor, graph, data):\n",
    "    for con_modifer in data['modifiers']:\n",
    "        graph.add((make_uri('base', j_constructor), make_predicate('hasConstructorModifier'), make_uri('modifier', con_modifer)))\n",
    "\n",
    "    for parameter in data['parameters']:\n",
    "        cons_paramter = combine_string('java_constructor', data['name'], 'parameter', parameter['name'])\n",
    "        graph.add((make_uri('base', j_constructor), make_predicate('hasConstructorParameter'), make_uri('base', cons_paramter)))\n",
    "        graph.add((make_uri('base', cons_paramter), make_predicate('hasType'), make_uri('parameter_type', parameter['type'])))\n",
    "\n",
    "\n",
    "        for param_cons_modifer in parameter['modifiers']:\n",
    "            graph.add((make_uri('base', cons_paramter), make_predicate('hasParameterModifier'), make_uri('modifier', param_cons_modifer)))\n",
    "            \n",
    "    for used_import in data['used_imports']:\n",
    "        graph.add((make_uri('base', j_constructor), make_predicate('hasUsedImport'), Literal(used_import)))\n",
    "\n",
    "    for throw in data['throws']:\n",
    "        graph.add((make_uri('base', j_constructor), make_predicate('throws'), Literal(throw)))\n"
   ]
  },
  {
   "cell_type": "code",
   "execution_count": 281,
   "metadata": {},
   "outputs": [],
   "source": [
    "def make_class_method_rdf(j_method, graph, data):\n",
    "    for met_modifer in data['modifiers']:\n",
    "        graph.add((make_uri('base', j_method), make_predicate('hasMethodModifier'), make_uri('modifier', met_modifer)))\n",
    "\n",
    "    for parameter in data['parameters']:\n",
    "        meth_paramter = combine_string('java_method', data['name'], 'parameter', parameter['name'])\n",
    "        graph.add((make_uri('base', j_method), make_predicate('hasMethodParameter'), make_uri('base', meth_paramter)))\n",
    "        graph.add((make_uri('base', meth_paramter), make_predicate('hasType'), make_uri('parameter_type', parameter['type'])))\n",
    "\n",
    "\n",
    "        for meth_param_modifer in parameter['modifiers']:\n",
    "            graph.add((make_uri('base', meth_paramter), make_predicate('hasParameterModifier'), make_uri('modifier', meth_param_modifer)))\n",
    "            \n",
    "    for used_import in data['used_imports']:\n",
    "        graph.add((make_uri('base', j_method), make_predicate('hasUsedImport'), Literal(used_import)))\n",
    "\n",
    "    for throw in data['throws']:\n",
    "        graph.add((make_uri('base', j_method), make_predicate('throws'), Literal(throw)))\n"
   ]
  },
  {
   "cell_type": "code",
   "execution_count": 282,
   "metadata": {},
   "outputs": [],
   "source": [
    "def make_class_rdf(filename, graph, data, key):\n",
    "    for _class in data:\n",
    "        j_class = combine_string('file', key, 'java_class', _class['name'])\n",
    "        graph.add((make_uri('base', filename), make_predicate('hasClass'), make_uri('base', j_class)))\n",
    "\n",
    "        make_class_modifier_rdf(j_class, graph, _class['modifiers'])\n",
    "        make_class_extends_rdf(j_class, graph, _class['extends'])\n",
    "        make_class_implements_rdf(j_class, graph, _class['implements'])\n",
    "\n",
    "        for variable in _class['variables']:\n",
    "            j_variable = combine_string('java_class', _class['name'], 'java_variable', variable['name'])\n",
    "            graph.add((make_uri('base', j_class), make_predicate('hasVariable'), make_uri('base', j_variable)))\n",
    "\n",
    "            make_class_variables_rdf(j_variable, graph, variable)\n",
    "\n",
    "        for constructor in _class['constructors']:\n",
    "            j_constructor = combine_string('java_class', _class['name'], 'java_constructor', constructor['name'])\n",
    "            graph.add((make_uri('base', j_class), make_predicate('hasConstructor'), make_uri('base', j_constructor)))\n",
    "\n",
    "            make_class_constructor_rdf(j_constructor, graph, constructor)\n",
    "\n",
    "\n",
    "        for method in _class['methods']:\n",
    "            j_method = combine_string('java_class', _class['name'], 'java_method', method['name'])\n",
    "            graph.add((make_uri('base', j_class), make_predicate('hasMethod'), make_uri('base', j_method)))\n",
    "\n",
    "            make_class_constructor_rdf(j_method, graph, method)\n"
   ]
  },
  {
   "cell_type": "code",
   "execution_count": 283,
   "metadata": {},
   "outputs": [],
   "source": [
    "def process_java_file(key, value, graph, repo_name):\n",
    "    filename = combine_string('repository', repo_name, 'file', key)\n",
    "\n",
    "    make_file_rdf(filename, graph, repo_name)\n",
    "    make_package_rdf(filename, graph, value['package'])\n",
    "    make_import_rdf(filename, graph, value['imports'])\n",
    "    \n",
    "    if 'classes' in value and value['classes']:\n",
    "        make_class_rdf(filename, graph, value['classes'], key)\n",
    "\n",
    "    elif 'interfaces' in value and value['interfaces']:\n",
    "        print(\"Interface ok\")\n",
    "\n",
    "    else:\n",
    "        print(value)\n"
   ]
  },
  {
   "cell_type": "code",
   "execution_count": 284,
   "metadata": {},
   "outputs": [],
   "source": [
    "def process_json(data, graph, repo_name):\n",
    "\n",
    "    if isinstance(data, dict): \n",
    "        for key, value in data.items():\n",
    "            if key.endswith('.java'):\n",
    "                process_java_file(key, value, graph, repo_name)\n",
    "\n",
    "            process_json(value, graph, repo_name)\n",
    "            \n",
    "    elif isinstance(data, list):\n",
    "        for item in data:\n",
    "            process_json(item, graph, repo_name)  \n"
   ]
  },
  {
   "cell_type": "code",
   "execution_count": 285,
   "metadata": {},
   "outputs": [],
   "source": [
    "json_files_path = '/Users/abdulrafay/Desktop/RP/RDF_Graph/codedata_jsons'\n",
    "files = os.listdir(json_files_path)"
   ]
  },
  {
   "cell_type": "code",
   "execution_count": 286,
   "metadata": {},
   "outputs": [],
   "source": [
    "graph = rdflib.Graph()"
   ]
  },
  {
   "cell_type": "code",
   "execution_count": null,
   "metadata": {},
   "outputs": [],
   "source": [
    "for file in files:\n",
    "    if file != '.DS_Store':\n",
    "        path = os.path.join(json_files_path, file)\n",
    "        json_data = read_json(path)\n",
    "\n",
    "        repo_name = setup_repo_name(file, graph)\n",
    "        process_json(json_data, graph, repo_name)\n"
   ]
  },
  {
   "cell_type": "code",
   "execution_count": null,
   "metadata": {},
   "outputs": [],
   "source": [
    "graph.serialize(destination=\"codedata.nt\", format=\"nt\", encoding='UTF-8')"
   ]
  }
 ],
 "metadata": {
  "kernelspec": {
   "display_name": "Python 3",
   "language": "python",
   "name": "python3"
  },
  "language_info": {
   "codemirror_mode": {
    "name": "ipython",
    "version": 3
   },
   "file_extension": ".py",
   "mimetype": "text/x-python",
   "name": "python",
   "nbconvert_exporter": "python",
   "pygments_lexer": "ipython3",
   "version": "3.10.15"
  }
 },
 "nbformat": 4,
 "nbformat_minor": 2
}
